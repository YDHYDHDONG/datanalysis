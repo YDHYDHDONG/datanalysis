{
  "nbformat": 4,
  "nbformat_minor": 0,
  "metadata": {
    "colab": {
      "provenance": [],
      "authorship_tag": "ABX9TyMa8q1Ih4vG177O5ap36vVQ",
      "include_colab_link": true
    },
    "kernelspec": {
      "name": "python3",
      "display_name": "Python 3"
    },
    "language_info": {
      "name": "python"
    }
  },
  "cells": [
    {
      "cell_type": "markdown",
      "metadata": {
        "id": "view-in-github",
        "colab_type": "text"
      },
      "source": [
        "<a href=\"https://colab.research.google.com/github/YDHYDHDONG/datanalysis/blob/master/1_Series.ipynb\" target=\"_parent\"><img src=\"https://colab.research.google.com/assets/colab-badge.svg\" alt=\"Open In Colab\"/></a>"
      ]
    },
    {
      "cell_type": "markdown",
      "source": [
        "# Pandas\n",
        "파이썬에서 사용하는 데이터 분석 라이브러리"
      ],
      "metadata": {
        "id": "DC3mV3q7CZoJ"
      }
    },
    {
      "cell_type": "code",
      "execution_count": null,
      "metadata": {
        "id": "WWQvZNObBHQU"
      },
      "outputs": [],
      "source": [
        "import pandas as pd"
      ]
    },
    {
      "cell_type": "markdown",
      "source": [
        "# 1.Series\n",
        "1차원 데이터(정수, 실수, 문자열 등)"
      ],
      "metadata": {
        "id": "YsW7pKG1CtU1"
      }
    },
    {
      "cell_type": "markdown",
      "source": [
        "**Series 객체 생성**\n",
        "예) 1월부터 4일까지 평균 온도 데이터(-20,-10,10,20)"
      ],
      "metadata": {
        "id": "03nDdD95DNkY"
      }
    },
    {
      "cell_type": "code",
      "source": [
        "temp = pd.Series([20,-10,10,20])\n",
        "temp"
      ],
      "metadata": {
        "colab": {
          "base_uri": "https://localhost:8080/"
        },
        "id": "7-px3MgwDEkc",
        "outputId": "65bdeb01-648d-49bc-8a9a-5c7c1c98a4ac"
      },
      "execution_count": null,
      "outputs": [
        {
          "output_type": "execute_result",
          "data": {
            "text/plain": [
              "0    20\n",
              "1   -10\n",
              "2    10\n",
              "3    20\n",
              "dtype: int64"
            ]
          },
          "metadata": {},
          "execution_count": 3
        }
      ]
    },
    {
      "cell_type": "code",
      "source": [
        " temp[0] # 1월 온도"
      ],
      "metadata": {
        "colab": {
          "base_uri": "https://localhost:8080/"
        },
        "id": "sY8QY6yzCTG1",
        "outputId": "a20d3252-0d38-4677-a31e-e5520c08e61d"
      },
      "execution_count": null,
      "outputs": [
        {
          "output_type": "execute_result",
          "data": {
            "text/plain": [
              "20"
            ]
          },
          "metadata": {},
          "execution_count": 4
        }
      ]
    },
    {
      "cell_type": "markdown",
      "source": [
        "# **Series 객체 생성(Index 지정)**"
      ],
      "metadata": {
        "id": "Q5eCrZoIEE_m"
      }
    },
    {
      "cell_type": "code",
      "source": [
        "temp = pd.Series([20,-10,10,20], index=['Jan', 'Feb', 'Mar', \"Apr\"])\n",
        "temp"
      ],
      "metadata": {
        "colab": {
          "base_uri": "https://localhost:8080/"
        },
        "id": "xLaQVJaED7KY",
        "outputId": "70dbd8a2-f7ed-459f-e378-25563c20a31a"
      },
      "execution_count": null,
      "outputs": [
        {
          "output_type": "execute_result",
          "data": {
            "text/plain": [
              "Jan    20\n",
              "Feb   -10\n",
              "Mar    10\n",
              "Apr    20\n",
              "dtype: int64"
            ]
          },
          "metadata": {},
          "execution_count": 5
        }
      ]
    },
    {
      "cell_type": "code",
      "source": [
        "temp['Apr']"
      ],
      "metadata": {
        "colab": {
          "base_uri": "https://localhost:8080/"
        },
        "id": "E60WpkrFEhUt",
        "outputId": "4e19e52e-4a22-4cae-d09d-b5ec50a3113e"
      },
      "execution_count": null,
      "outputs": [
        {
          "output_type": "execute_result",
          "data": {
            "text/plain": [
              "20"
            ]
          },
          "metadata": {},
          "execution_count": 6
        }
      ]
    }
  ]
}